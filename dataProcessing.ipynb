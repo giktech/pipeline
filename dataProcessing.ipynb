{
 "cells": [
  {
   "cell_type": "code",
   "execution_count": 47,
   "metadata": {},
   "outputs": [],
   "source": [
    "# Essential libraries\n",
    "import json\n",
    "import pandas as pd\n",
    "import datetime\n",
    "import uuid"
   ]
  },
  {
   "cell_type": "code",
   "execution_count": 13,
   "metadata": {},
   "outputs": [],
   "source": [
    "# Loading data from stage 1 (which is just raw data from somewhere)\n",
    "with open(\"./data.json\", \"r\") as read_file:\n",
    "    stages = json.load(read_file)\n"
   ]
  },
  {
   "cell_type": "code",
   "execution_count": 14,
   "metadata": {},
   "outputs": [
    {
     "data": {
      "text/plain": [
       "dict_keys(['data'])"
      ]
     },
     "execution_count": 14,
     "metadata": {},
     "output_type": "execute_result"
    }
   ],
   "source": [
    "# Making sense of data\n",
    "type(data)\n",
    "stages.keys()"
   ]
  },
  {
   "cell_type": "code",
   "execution_count": 18,
   "metadata": {},
   "outputs": [
    {
     "data": {
      "text/plain": [
       "[{'stageNum': 1, 'timestamp': '01-01-2018 03:00:15'},\n",
       " {'stageNum': 1, 'timestamp': '01-01-2018 03:00:54'},\n",
       " {'stageNum': 1, 'timestamp': '01-01-2018 03:00:02'},\n",
       " {'stageNum': 1, 'timestamp': '01-01-2018 03:00:11'},\n",
       " {'stageNum': 1, 'timestamp': '01-01-2018 03:00:13'},\n",
       " {'stageNum': 1, 'timestamp': '01-01-2018 03:00:37'},\n",
       " {'stageNum': 1, 'timestamp': '01-01-2018 03:00:08'},\n",
       " {'stageNum': 1, 'timestamp': '01-01-2018 03:00:38'},\n",
       " {'stageNum': 1, 'timestamp': '01-01-2018 03:00:30'},\n",
       " {'stageNum': 1, 'timestamp': '01-01-2018 03:00:46'}]"
      ]
     },
     "execution_count": 18,
     "metadata": {},
     "output_type": "execute_result"
    }
   ],
   "source": [
    "# real events are in the data key\n",
    "events = stages[\"data\"]\n",
    "events[:10]"
   ]
  },
  {
   "cell_type": "code",
   "execution_count": 22,
   "metadata": {},
   "outputs": [
    {
     "data": {
      "text/plain": [
       "dict_keys(['stageNum', 'timestamp'])"
      ]
     },
     "execution_count": 22,
     "metadata": {},
     "output_type": "execute_result"
    }
   ],
   "source": [
    "# What does each event look like? \n",
    "type(events[1])\n",
    "events[1].keys()"
   ]
  },
  {
   "cell_type": "code",
   "execution_count": 20,
   "metadata": {},
   "outputs": [
    {
     "data": {
      "text/plain": [
       "dict_keys(['stageNum', 'timestamp'])"
      ]
     },
     "execution_count": 20,
     "metadata": {},
     "output_type": "execute_result"
    }
   ],
   "source": [
    "events[1].keys()"
   ]
  },
  {
   "cell_type": "code",
   "execution_count": 27,
   "metadata": {},
   "outputs": [
    {
     "data": {
      "text/html": [
       "<div>\n",
       "<style scoped>\n",
       "    .dataframe tbody tr th:only-of-type {\n",
       "        vertical-align: middle;\n",
       "    }\n",
       "\n",
       "    .dataframe tbody tr th {\n",
       "        vertical-align: top;\n",
       "    }\n",
       "\n",
       "    .dataframe thead th {\n",
       "        text-align: right;\n",
       "    }\n",
       "</style>\n",
       "<table border=\"1\" class=\"dataframe\">\n",
       "  <thead>\n",
       "    <tr style=\"text-align: right;\">\n",
       "      <th></th>\n",
       "      <th>stageNum</th>\n",
       "      <th>timestamp</th>\n",
       "    </tr>\n",
       "  </thead>\n",
       "  <tbody>\n",
       "    <tr>\n",
       "      <th>0</th>\n",
       "      <td>1</td>\n",
       "      <td>01-01-2018 03:00:15</td>\n",
       "    </tr>\n",
       "    <tr>\n",
       "      <th>1</th>\n",
       "      <td>1</td>\n",
       "      <td>01-01-2018 03:00:54</td>\n",
       "    </tr>\n",
       "    <tr>\n",
       "      <th>2</th>\n",
       "      <td>1</td>\n",
       "      <td>01-01-2018 03:00:02</td>\n",
       "    </tr>\n",
       "    <tr>\n",
       "      <th>3</th>\n",
       "      <td>1</td>\n",
       "      <td>01-01-2018 03:00:11</td>\n",
       "    </tr>\n",
       "    <tr>\n",
       "      <th>4</th>\n",
       "      <td>1</td>\n",
       "      <td>01-01-2018 03:00:13</td>\n",
       "    </tr>\n",
       "    <tr>\n",
       "      <th>5</th>\n",
       "      <td>1</td>\n",
       "      <td>01-01-2018 03:00:37</td>\n",
       "    </tr>\n",
       "    <tr>\n",
       "      <th>6</th>\n",
       "      <td>1</td>\n",
       "      <td>01-01-2018 03:00:08</td>\n",
       "    </tr>\n",
       "    <tr>\n",
       "      <th>7</th>\n",
       "      <td>1</td>\n",
       "      <td>01-01-2018 03:00:38</td>\n",
       "    </tr>\n",
       "    <tr>\n",
       "      <th>8</th>\n",
       "      <td>1</td>\n",
       "      <td>01-01-2018 03:00:30</td>\n",
       "    </tr>\n",
       "    <tr>\n",
       "      <th>9</th>\n",
       "      <td>1</td>\n",
       "      <td>01-01-2018 03:00:46</td>\n",
       "    </tr>\n",
       "  </tbody>\n",
       "</table>\n",
       "</div>"
      ],
      "text/plain": [
       "   stageNum            timestamp\n",
       "0         1  01-01-2018 03:00:15\n",
       "1         1  01-01-2018 03:00:54\n",
       "2         1  01-01-2018 03:00:02\n",
       "3         1  01-01-2018 03:00:11\n",
       "4         1  01-01-2018 03:00:13\n",
       "5         1  01-01-2018 03:00:37\n",
       "6         1  01-01-2018 03:00:08\n",
       "7         1  01-01-2018 03:00:38\n",
       "8         1  01-01-2018 03:00:30\n",
       "9         1  01-01-2018 03:00:46"
      ]
     },
     "execution_count": 27,
     "metadata": {},
     "output_type": "execute_result"
    }
   ],
   "source": [
    "df_events = pd.DataFrame(events)\n",
    "df_events[:10]"
   ]
  },
  {
   "cell_type": "code",
   "execution_count": 32,
   "metadata": {},
   "outputs": [],
   "source": [
    "# Writing the log to a CSV file\n",
    "df_events.to_csv(\"./data_stage1.csv\", index=False)"
   ]
  },
  {
   "cell_type": "code",
   "execution_count": 54,
   "metadata": {},
   "outputs": [],
   "source": [
    "# function to add a unique ID to the data\n",
    "def add_id(data):\n",
    "    print('Starting with the datafile: ', data)\n",
    "    df = pd.read_csv(data)\n",
    "    df = df.assign(id=uuid.uuid4())\n",
    "    for i, event in df.iterrows():\n",
    "        df.loc[i, \"id\"] = uuid.uuid4()\n",
    "    df.to_csv(data, index=False)\n",
    "    print('Output datafile: ', data)\n",
    "    return data"
   ]
  },
  {
   "cell_type": "code",
   "execution_count": 55,
   "metadata": {},
   "outputs": [
    {
     "name": "stdout",
     "output_type": "stream",
     "text": [
      "Starting with the datafile:  ./data_stage1.csv\n",
      "Output datafile:  ./data_stage1.csv\n"
     ]
    },
    {
     "data": {
      "text/plain": [
       "'./data_stage1.csv'"
      ]
     },
     "execution_count": 55,
     "metadata": {},
     "output_type": "execute_result"
    }
   ],
   "source": [
    "# add a unique ID to the data\n",
    "add_id(\"./data_stage1.csv\")"
   ]
  },
  {
   "cell_type": "code",
   "execution_count": 57,
   "metadata": {},
   "outputs": [],
   "source": [
    "# Now we process each event and take them through the stages\n",
    "# This process has to be repeatable as we'll have to take them through multiple stages\n",
    "# Output of the stage would be a DF and we can then choose to serialize it in JSON\n",
    "# \"Stage\" is \"numeric\" stage we want the data to go through\n",
    "# \"data\" is a csv file\n",
    "\n",
    "def process(data, stage = 2):\n",
    "    print('Starting with the datafile: ', data)\n",
    "    print('Processing stage: ', stage)\n",
    "    df = pd.read_csv(data)\n",
    "    out_filename_string = \"./data_stage\" + str(stage) + \".csv\"\n",
    "    df_out = df\n",
    "    \n",
    "    # Go through each record and process\n",
    "    # For now the process is just changing the stageNum and timestamp\n",
    "    # TODO: Do fancy things during the data processing stage with the events\n",
    "    # TODO: Do we need to add some delay\n",
    "    for i, event in df_out.iterrows():\n",
    "        df_out.loc[i, \"stageNum\"] = stage\n",
    "        now = datetime.datetime.now()\n",
    "        \n",
    "        # Using the isoformat for time\n",
    "        s_now = now.isoformat()\n",
    "        df_out.loc[i, \"timestamp\"] = s_now\n",
    "        \n",
    "    # Do not write the index or it'll keep adding one to each stage\n",
    "    df_out.to_csv(out_filename_string, index=False)\n",
    "    print('Output datafile: ', out_filename_string)\n",
    "    return out_filename_string\n",
    "\n",
    "process(\"./data_stage1.csv\")"
   ]
  },
  {
   "cell_type": "code",
   "execution_count": 58,
   "metadata": {},
   "outputs": [],
   "source": [
    "# Lets build a pipeline now\n",
    "def pipeline(first_stage, num_stages, data, isSerial = True):\n",
    "    next_file = data\n",
    "    next_stage = first_stage\n",
    "    for stage in range(num_stages):        \n",
    "        next_file = process(next_file, stage = next_stage)\n",
    "        next_stage = next_stage + 1\n",
    "    return next_file"
   ]
  },
  {
   "cell_type": "code",
   "execution_count": 59,
   "metadata": {},
   "outputs": [
    {
     "name": "stdout",
     "output_type": "stream",
     "text": [
      "Starting with the datafile:  ./data_stage2.csv\n",
      "Processing stage:  3\n",
      "Output datafile:  ./data_stage3.csv\n",
      "Starting with the datafile:  ./data_stage3.csv\n",
      "Processing stage:  4\n",
      "Output datafile:  ./data_stage4.csv\n"
     ]
    },
    {
     "data": {
      "text/plain": [
       "'./data_stage4.csv'"
      ]
     },
     "execution_count": 59,
     "metadata": {},
     "output_type": "execute_result"
    }
   ],
   "source": [
    "# Try the pipeline\n",
    "pipeline(3, 2, \"./data_stage2.csv\")"
   ]
  },
  {
   "cell_type": "code",
   "execution_count": null,
   "metadata": {},
   "outputs": [],
   "source": []
  }
 ],
 "metadata": {
  "kernelspec": {
   "display_name": "Python 3",
   "language": "python",
   "name": "python3"
  },
  "language_info": {
   "codemirror_mode": {
    "name": "ipython",
    "version": 3
   },
   "file_extension": ".py",
   "mimetype": "text/x-python",
   "name": "python",
   "nbconvert_exporter": "python",
   "pygments_lexer": "ipython3",
   "version": "3.6.4"
  }
 },
 "nbformat": 4,
 "nbformat_minor": 2
}
