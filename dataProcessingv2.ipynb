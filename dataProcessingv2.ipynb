{
 "cells": [
  {
   "cell_type": "code",
   "execution_count": 1,
   "metadata": {},
   "outputs": [],
   "source": [
    "# Essential libraries\n",
    "import pandas as pd\n",
    "import datetime\n",
    "import time\n",
    "import uuid\n",
    "import random\n"
   ]
  },
  {
   "cell_type": "code",
   "execution_count": 2,
   "metadata": {},
   "outputs": [],
   "source": [
    "# Loading data from stage 1 (which is just raw data from somewhere)\n",
    "ifile = \"../data/events-2017.11.csv\"\n",
    "dfi = pd.read_csv(ifile)\n"
   ]
  },
  {
   "cell_type": "code",
   "execution_count": 3,
   "metadata": {},
   "outputs": [
    {
     "data": {
      "text/html": [
       "<div>\n",
       "<style scoped>\n",
       "    .dataframe tbody tr th:only-of-type {\n",
       "        vertical-align: middle;\n",
       "    }\n",
       "\n",
       "    .dataframe tbody tr th {\n",
       "        vertical-align: top;\n",
       "    }\n",
       "\n",
       "    .dataframe thead th {\n",
       "        text-align: right;\n",
       "    }\n",
       "</style>\n",
       "<table border=\"1\" class=\"dataframe\">\n",
       "  <thead>\n",
       "    <tr style=\"text-align: right;\">\n",
       "      <th></th>\n",
       "      <th>id</th>\n",
       "      <th>productStyle</th>\n",
       "      <th>age</th>\n",
       "      <th>gender</th>\n",
       "      <th>region</th>\n",
       "      <th>node</th>\n",
       "      <th>stageNum</th>\n",
       "      <th>stageName</th>\n",
       "      <th>timestamp</th>\n",
       "    </tr>\n",
       "  </thead>\n",
       "  <tbody>\n",
       "    <tr>\n",
       "      <th>0</th>\n",
       "      <td>1</td>\n",
       "      <td>style1</td>\n",
       "      <td>under-30</td>\n",
       "      <td>male</td>\n",
       "      <td>asia</td>\n",
       "      <td>1</td>\n",
       "      <td>1</td>\n",
       "      <td>Order Received</td>\n",
       "      <td>11-01-2017 18:09:43</td>\n",
       "    </tr>\n",
       "    <tr>\n",
       "      <th>1</th>\n",
       "      <td>2</td>\n",
       "      <td>style1</td>\n",
       "      <td>under-30</td>\n",
       "      <td>male</td>\n",
       "      <td>asia</td>\n",
       "      <td>1</td>\n",
       "      <td>1</td>\n",
       "      <td>Order Received</td>\n",
       "      <td>11-01-2017 18:46:50</td>\n",
       "    </tr>\n",
       "    <tr>\n",
       "      <th>2</th>\n",
       "      <td>3</td>\n",
       "      <td>style1</td>\n",
       "      <td>under-30</td>\n",
       "      <td>male</td>\n",
       "      <td>europe</td>\n",
       "      <td>1</td>\n",
       "      <td>1</td>\n",
       "      <td>Order Received</td>\n",
       "      <td>11-01-2017 05:55:44</td>\n",
       "    </tr>\n",
       "    <tr>\n",
       "      <th>3</th>\n",
       "      <td>4</td>\n",
       "      <td>style1</td>\n",
       "      <td>under-30</td>\n",
       "      <td>male</td>\n",
       "      <td>europe</td>\n",
       "      <td>1</td>\n",
       "      <td>1</td>\n",
       "      <td>Order Received</td>\n",
       "      <td>11-01-2017 22:29:42</td>\n",
       "    </tr>\n",
       "    <tr>\n",
       "      <th>4</th>\n",
       "      <td>5</td>\n",
       "      <td>style1</td>\n",
       "      <td>under-30</td>\n",
       "      <td>male</td>\n",
       "      <td>europe</td>\n",
       "      <td>2</td>\n",
       "      <td>1</td>\n",
       "      <td>Order Received</td>\n",
       "      <td>11-01-2017 05:19:35</td>\n",
       "    </tr>\n",
       "    <tr>\n",
       "      <th>5</th>\n",
       "      <td>6</td>\n",
       "      <td>style1</td>\n",
       "      <td>under-30</td>\n",
       "      <td>female</td>\n",
       "      <td>us</td>\n",
       "      <td>1</td>\n",
       "      <td>1</td>\n",
       "      <td>Order Received</td>\n",
       "      <td>11-01-2017 00:58:56</td>\n",
       "    </tr>\n",
       "    <tr>\n",
       "      <th>6</th>\n",
       "      <td>7</td>\n",
       "      <td>style1</td>\n",
       "      <td>under-30</td>\n",
       "      <td>female</td>\n",
       "      <td>asia</td>\n",
       "      <td>1</td>\n",
       "      <td>1</td>\n",
       "      <td>Order Received</td>\n",
       "      <td>11-01-2017 00:28:13</td>\n",
       "    </tr>\n",
       "    <tr>\n",
       "      <th>7</th>\n",
       "      <td>8</td>\n",
       "      <td>style1</td>\n",
       "      <td>under-30</td>\n",
       "      <td>female</td>\n",
       "      <td>asia</td>\n",
       "      <td>1</td>\n",
       "      <td>1</td>\n",
       "      <td>Order Received</td>\n",
       "      <td>11-01-2017 06:11:01</td>\n",
       "    </tr>\n",
       "    <tr>\n",
       "      <th>8</th>\n",
       "      <td>9</td>\n",
       "      <td>style1</td>\n",
       "      <td>under-30</td>\n",
       "      <td>female</td>\n",
       "      <td>asia</td>\n",
       "      <td>2</td>\n",
       "      <td>1</td>\n",
       "      <td>Order Received</td>\n",
       "      <td>11-01-2017 10:27:13</td>\n",
       "    </tr>\n",
       "    <tr>\n",
       "      <th>9</th>\n",
       "      <td>10</td>\n",
       "      <td>style1</td>\n",
       "      <td>under-30</td>\n",
       "      <td>female</td>\n",
       "      <td>europe</td>\n",
       "      <td>1</td>\n",
       "      <td>1</td>\n",
       "      <td>Order Received</td>\n",
       "      <td>11-01-2017 00:28:00</td>\n",
       "    </tr>\n",
       "  </tbody>\n",
       "</table>\n",
       "</div>"
      ],
      "text/plain": [
       "   id productStyle       age  gender  region  node  stageNum       stageName  \\\n",
       "0   1       style1  under-30    male    asia     1         1  Order Received   \n",
       "1   2       style1  under-30    male    asia     1         1  Order Received   \n",
       "2   3       style1  under-30    male  europe     1         1  Order Received   \n",
       "3   4       style1  under-30    male  europe     1         1  Order Received   \n",
       "4   5       style1  under-30    male  europe     2         1  Order Received   \n",
       "5   6       style1  under-30  female      us     1         1  Order Received   \n",
       "6   7       style1  under-30  female    asia     1         1  Order Received   \n",
       "7   8       style1  under-30  female    asia     1         1  Order Received   \n",
       "8   9       style1  under-30  female    asia     2         1  Order Received   \n",
       "9  10       style1  under-30  female  europe     1         1  Order Received   \n",
       "\n",
       "             timestamp  \n",
       "0  11-01-2017 18:09:43  \n",
       "1  11-01-2017 18:46:50  \n",
       "2  11-01-2017 05:55:44  \n",
       "3  11-01-2017 22:29:42  \n",
       "4  11-01-2017 05:19:35  \n",
       "5  11-01-2017 00:58:56  \n",
       "6  11-01-2017 00:28:13  \n",
       "7  11-01-2017 06:11:01  \n",
       "8  11-01-2017 10:27:13  \n",
       "9  11-01-2017 00:28:00  "
      ]
     },
     "execution_count": 3,
     "metadata": {},
     "output_type": "execute_result"
    }
   ],
   "source": [
    "# Validating data\n",
    "dfi[:10]"
   ]
  },
  {
   "cell_type": "code",
   "execution_count": 4,
   "metadata": {},
   "outputs": [],
   "source": [
    "# Writing data to stage1 a CSV file\n",
    "dfi.to_csv(\"./data_stage1.csv\", index=False)"
   ]
  },
  {
   "cell_type": "code",
   "execution_count": 5,
   "metadata": {},
   "outputs": [],
   "source": [
    "# function to add a unique ID to the data\n",
    "# This is like assigning an ID before the order goes into the manufacturing cycle\n",
    "def add_id(data):\n",
    "    print('Starting with the datafile: ', data)\n",
    "    df = pd.read_csv(data)\n",
    "    df = df.assign(id=uuid.uuid4())\n",
    "    for i, event in df.iterrows():\n",
    "        df.loc[i, \"id\"] = uuid.uuid4()\n",
    "    df.to_csv(data, index=False)\n",
    "    print('Output datafile: ', data)\n",
    "    return data"
   ]
  },
  {
   "cell_type": "code",
   "execution_count": 6,
   "metadata": {},
   "outputs": [],
   "source": [
    "# function to add a type field to data\n",
    "# Here we can do some magic like indicate the result of manufacturing\n",
    "def add_type(data, type):\n",
    "    print('Starting with the datafile: ', data)\n",
    "    df = pd.read_csv(data)\n",
    "    df = df.assign(type = \"NA\")\n",
    "    for i, event in df.iterrows():\n",
    "        # pick one from the list of types\n",
    "        df.loc[i, \"type\"] = random.choice(type)\n",
    "    df.to_csv(data, index=False)\n",
    "    print('Output datafile: ', data)\n",
    "    return data"
   ]
  },
  {
   "cell_type": "code",
   "execution_count": 7,
   "metadata": {},
   "outputs": [
    {
     "name": "stdout",
     "output_type": "stream",
     "text": [
      "Starting with the datafile:  ./data_stage1.csv\n",
      "Output datafile:  ./data_stage1.csv\n"
     ]
    },
    {
     "data": {
      "text/plain": [
       "'./data_stage1.csv'"
      ]
     },
     "execution_count": 7,
     "metadata": {},
     "output_type": "execute_result"
    }
   ],
   "source": [
    "# add type to the data\n",
    "type = [\"atype\", \"btype\", \"ctype\", \"dtype\", \"etype\", \"ftype\"]\n",
    "add_type(\"./data_stage1.csv\", type)"
   ]
  },
  {
   "cell_type": "code",
   "execution_count": 8,
   "metadata": {},
   "outputs": [
    {
     "name": "stdout",
     "output_type": "stream",
     "text": [
      "Starting with the datafile:  ./data_stage1.csv\n",
      "Output datafile:  ./data_stage1.csv\n"
     ]
    },
    {
     "data": {
      "text/plain": [
       "'./data_stage1.csv'"
      ]
     },
     "execution_count": 8,
     "metadata": {},
     "output_type": "execute_result"
    }
   ],
   "source": [
    "# add a unique ID to the data\n",
    "add_id(\"./data_stage1.csv\")"
   ]
  },
  {
   "cell_type": "code",
   "execution_count": 12,
   "metadata": {},
   "outputs": [],
   "source": [
    "# Take data through the manufacturing stage\n",
    "# Each unique ID event would be transformed to indicate the result of manufacturing\n",
    "\n",
    "def process(data, stage = 2, stageName='Manufacturing', process_time=3600):    \n",
    "    print('Starting with the datafile: ', data)\n",
    "    print('Processing stage: ', stage)    \n",
    "    # Read the file\n",
    "    df = pd.read_csv(data)   \n",
    "    # Name for the output file\n",
    "    out_filename_string = \"./data_stage\" + str(stage) + \".csv\"\n",
    "    df_out = df   \n",
    "    # Go through each record and process  \n",
    "    for i, event in df_out.iterrows():        \n",
    "        # Add the stage number\n",
    "        df_out.loc[i, \"stageNum\"] = stage       \n",
    "        # Add the stageName\n",
    "        df_out.loc[i, \"stageName\"] = stageName\n",
    "        # Extract the datetime\n",
    "        timestamp = df_out.loc[i, \"timestamp\"]\n",
    "        # Convert from timestamp to the datetime object\n",
    "        dt = datetime.datetime.strptime(timestamp,\"%m-%d-%Y %H:%M:%S\")\n",
    "        # Add the normal process time\n",
    "        dt = dt + datetime.timedelta(seconds = process_time)\n",
    "        # Convert to Iso format \n",
    "        s_dt = dt.isoformat()\n",
    "        df_out.loc[i, \"timestamp\"] = s_dt\n",
    "    # Do not write the index or it'll keep adding one to each stage\n",
    "    df_out.to_csv(out_filename_string, index=False)\n",
    "    print('Output datafile: ', out_filename_string)\n",
    "    return out_filename_string\n"
   ]
  },
  {
   "cell_type": "code",
   "execution_count": 13,
   "metadata": {},
   "outputs": [
    {
     "name": "stdout",
     "output_type": "stream",
     "text": [
      "Starting with the datafile:  ./data_stage1.csv\n",
      "Processing stage:  2\n",
      "Output datafile:  ./data_stage2.csv\n"
     ]
    },
    {
     "data": {
      "text/plain": [
       "'./data_stage2.csv'"
      ]
     },
     "execution_count": 13,
     "metadata": {},
     "output_type": "execute_result"
    }
   ],
   "source": [
    "# Add the manufacturing stage\n",
    "process(\"./data_stage1.csv\")\n"
   ]
  },
  {
   "cell_type": "code",
   "execution_count": 20,
   "metadata": {},
   "outputs": [],
   "source": [
    "# Add a delay for certain types\n",
    "def add_delay(data, delay=7200):\n",
    "    print('Starting with the datafile: ', data) \n",
    "    # Read the file\n",
    "    df = pd.read_csv(data)   \n",
    "    # Name for the output file. We'll just rewrite the file\n",
    "    out_filename_string = data\n",
    "    df_out = df   \n",
    "    # Go through each record and process  \n",
    "    for i, event in df_out.iterrows():\n",
    "        # We add delay to a subset\n",
    "        if(df_out.loc[i, \"region\"] == \"europe\" and df_out.loc[i, \"productStyle\"] == \"style1\"):\n",
    "            timestamp = df_out.loc[i, \"timestamp\"]\n",
    "            # Convert from timestamp to the datetime object\n",
    "            dt = datetime.datetime.strptime(timestamp,\"%Y-%m-%dT%H:%M:%S\")\n",
    "            # Add the delay\n",
    "            dt = dt + datetime.timedelta(seconds = delay)\n",
    "            # Convert to Iso format \n",
    "            s_dt = dt.isoformat()\n",
    "            df_out.loc[i, \"timestamp\"] = s_dt\n",
    "    # Do not write the index or it'll keep adding one to each stage\n",
    "    df_out.to_csv(out_filename_string, index=False)\n",
    "    print('Output datafile: ', out_filename_string)\n",
    "    return out_filename_string"
   ]
  },
  {
   "cell_type": "code",
   "execution_count": 21,
   "metadata": {},
   "outputs": [
    {
     "name": "stdout",
     "output_type": "stream",
     "text": [
      "Starting with the datafile:  ./data_stage2.csv\n",
      "Output datafile:  ./data_stage2.csv\n"
     ]
    },
    {
     "data": {
      "text/plain": [
       "'./data_stage2.csv'"
      ]
     },
     "execution_count": 21,
     "metadata": {},
     "output_type": "execute_result"
    }
   ],
   "source": [
    "# Add the delay\n",
    "add_delay(\"./data_stage2.csv\")\n"
   ]
  },
  {
   "cell_type": "code",
   "execution_count": null,
   "metadata": {},
   "outputs": [],
   "source": []
  }
 ],
 "metadata": {
  "kernelspec": {
   "display_name": "Python 3",
   "language": "python",
   "name": "python3"
  },
  "language_info": {
   "codemirror_mode": {
    "name": "ipython",
    "version": 3
   },
   "file_extension": ".py",
   "mimetype": "text/x-python",
   "name": "python",
   "nbconvert_exporter": "python",
   "pygments_lexer": "ipython3",
   "version": "3.6.4"
  }
 },
 "nbformat": 4,
 "nbformat_minor": 2
}
