{
 "cells": [
  {
   "cell_type": "code",
   "execution_count": 265,
   "metadata": {},
   "outputs": [],
   "source": [
    "from matplotlib import pyplot as mplt\n",
    "import pandas as pd\n",
    "import numpy as np"
   ]
  },
  {
   "cell_type": "markdown",
   "metadata": {},
   "source": [
    "## Import and set up data"
   ]
  },
  {
   "cell_type": "markdown",
   "metadata": {},
   "source": [
    "Missing data is coded at -99\n",
    "\n",
    "A correct answer to a question is 1\n",
    "\n",
    "An incorrect answer to a question is 0\n",
    "\n",
    "Create a column for each task that has a correct answer and code accordingly"
   ]
  },
  {
   "cell_type": "code",
   "execution_count": 266,
   "metadata": {},
   "outputs": [],
   "source": [
    "data = pd.read_csv(\"w209_userresearch_results.csv\")"
   ]
  },
  {
   "cell_type": "code",
   "execution_count": 267,
   "metadata": {},
   "outputs": [],
   "source": [
    "challenge_scales = [\n",
    "    'v1_t1_challenge',\n",
    "    'v1_t2_challenge',\n",
    "    'v1_t3_challenge',\n",
    "    'v2_t1_challenge',\n",
    "    'v2_t2_challenge',\n",
    "    'v2_t3_challenge',\n",
    "    'v2_t4_challenge',\n",
    "    'v2_t5_challenge', \n",
    "    'v3_t1_challenge',\n",
    "    'v3_t2_challenge', \n",
    "    'v3_t3_challenge', \n",
    "    'v3_t4_challenge', \n",
    "]\n",
    "\n",
    "view1_correct = [\n",
    "    'sp_most_correct',\n",
    "    'sp_least_correct',\n",
    "    'bh_most_correct',\n",
    "    'bh_least_correct',\n",
    "    's_most_correct', \n",
    "    's_least_correct',\n",
    "    'v_most_correct', \n",
    "    'v_least_correct',\n",
    "    'ts_correct',\n",
    "    'pop_category_correct',\n",
    "    'city_fewest_orders_correct', \n",
    "]\n",
    "\n",
    "sus_scale = [\n",
    "    'sus_2', \n",
    "    'sus_3', \n",
    "    'sus_4',\n",
    "    'sus_5', \n",
    "    'sus_6', \n",
    "    'sus_7', \n",
    "    'sus_8', \n",
    "    'sus_9', \n",
    "    'sus_10'\n",
    "]\n",
    "\n",
    "sus_labels = [\n",
    "    \"Unnecessarily complex\",\n",
    "    \"Easy to use\",\n",
    "    \"Need extra support\",\n",
    "    \"Well integrated functions\",\n",
    "    \"Inconsistent system\",\n",
    "    \"Learn quickly\",\n",
    "    \"Cumbersome\",\n",
    "    \"Confident\",\n",
    "    \"Need to learn a lot first\"\n",
    "]\n",
    "\n",
    "demos = [\n",
    "    'age', \n",
    "    'gender', \n",
    "    'race'\n",
    "]\n",
    "\n",
    "overall_rating = 'overall_rating'"
   ]
  },
  {
   "cell_type": "code",
   "execution_count": 268,
   "metadata": {},
   "outputs": [],
   "source": [
    "allusers_challenge_data = data[challenge_scales]\n",
    "allusers_correct_data = data[view1_correct]\n",
    "allusers_sus_data = data[sus_scale]\n",
    "allusers_demos_data = data[demos]\n",
    "allusers_overall_data = data[overall_rating]"
   ]
  },
  {
   "cell_type": "markdown",
   "metadata": {},
   "source": [
    "## Define plotting functions"
   ]
  },
  {
   "cell_type": "code",
   "execution_count": 269,
   "metadata": {},
   "outputs": [],
   "source": [
    "def likert_plot(scale, x_tick, y_lab=[\"\"], y_tick=[1], title=\"\", legend=[\"1\",\"2\",\"3\",\"4\",\"5\"], reverse=False):\n",
    "    likert_colors = [\n",
    "        \"#bdc3c7\", #Silver Sand Grey\n",
    "        \"#5333ed\", #Royal Blue\n",
    "        \"#86e2d5\", #Riptide Blue\n",
    "        \"#fde3a7\", #Cape Honey Neutral\n",
    "        \"#f15a22\", #Flamingo Red\n",
    "        \"#d91e18\" #Thunderbird Red\n",
    "    ]\n",
    "    \n",
    "    if reverse:\n",
    "        likert_colors = [\n",
    "        \"#bdc3c7\", #Silver Sand Grey\n",
    "        \"#d91e18\", #Thunderbird Red\n",
    "        \"#f15a22\", #Flamingo Red\n",
    "        \"#fde3a7\", #Cape Honey Neutral\n",
    "        \"#86e2d5\", #Riptide Blue\n",
    "        \"#5333ed\", #Royal Blue\n",
    "        ]\n",
    "    \n",
    "    fig = mplt.figure()\n",
    "    ax = fig.add_subplot(1,1,1)\n",
    "\n",
    "    ax.barh(1, scale[scale == -99].count(), color=likert_colors[0])\n",
    "    lefts = scale[scale == -99].count()\n",
    "\n",
    "    ax.barh(1, scale[scale == 1].count(), color=likert_colors[1], left=lefts)\n",
    "    lefts = lefts + scale[scale == 1].count()\n",
    "\n",
    "    ax.barh(1, scale[scale == 2].count(), color=likert_colors[2], left=lefts)\n",
    "    lefts = lefts + scale[scale == 2].count()\n",
    "\n",
    "    ax.barh(1, scale[scale == 3].count(), color=likert_colors[3], left=lefts)\n",
    "    lefts = lefts + scale[scale == 3].count()\n",
    "\n",
    "    ax.barh(1, scale[scale == 4].count(), color=likert_colors[4], left=lefts)\n",
    "    lefts = lefts + scale[scale == 4].count()\n",
    "\n",
    "    ax.barh(1, scale[scale == 5].count(), color=likert_colors[5], left=lefts)\n",
    "    lefts = lefts + scale[scale == 5].count()\n",
    "    \n",
    "    ax.legend(legend)\n",
    "    ax.set_yticks(y_tick)\n",
    "    ax.set_xticks(x_tick)\n",
    "    ax.set_yticklabels(y_lab)\n",
    "    \n",
    "    mplt.title(title)\n",
    "    \n",
    "    return fig\n",
    "\n",
    "def repeated_likert_plot(scale, x_tick,  y_tick, y_lab, title, legend=[\"1\",\"2\",\"3\",\"4\",\"5\"], reverse=False):\n",
    "    likert_colors = [\n",
    "        \"#bdc3c7\", #Silver Sand Grey\n",
    "        \"#5333ed\", #Royal Blue\n",
    "        \"#86e2d5\", #Riptide Blue\n",
    "        \"#fde3a7\", #Cape Honey Neutral\n",
    "        \"#f15a22\", #Flamingo Red\n",
    "        \"#d91e18\" #Thunderbird Red\n",
    "    ]\n",
    "    \n",
    "    if reverse:\n",
    "        likert_colors = [\n",
    "        \"#bdc3c7\", #Silver Sand Grey\n",
    "        \"#d91e18\", #Thunderbird Red\n",
    "        \"#f15a22\", #Flamingo Red\n",
    "        \"#fde3a7\", #Cape Honey Neutral\n",
    "        \"#86e2d5\", #Riptide Blue\n",
    "        \"#5333ed\", #Royal Blue\n",
    "    ]\n",
    "    \n",
    "    fig = mplt.figure()\n",
    "    ax = fig.add_subplot(1,1,1)\n",
    "    \n",
    "    for i,col in zip(range(0, len(scale.columns)), scale.columns):\n",
    "        ax.barh(i, scale[scale == -99][col].count(), color=likert_colors[0])\n",
    "        lefts = scale[scale == -99][col].count()\n",
    "        \n",
    "        ax.barh(i, scale[scale == 1][col].count(), color=likert_colors[1], left=lefts)\n",
    "        lefts = lefts + scale[scale == 1][col].count()\n",
    "\n",
    "        ax.barh(i, scale[scale == 2][col].count(), color=likert_colors[2], left=lefts)\n",
    "        lefts = lefts + scale[scale == 2][col].count()\n",
    "\n",
    "        ax.barh(i, scale[scale == 3][col].count(), color=likert_colors[3], left=lefts)\n",
    "        lefts = lefts + scale[scale == 3][col].count()\n",
    "\n",
    "        ax.barh(i, scale[scale == 4][col].count(), color=likert_colors[4], left=lefts)\n",
    "        lefts = lefts + scale[scale == 4][col].count()\n",
    "\n",
    "        ax.barh(i, scale[scale == 5][col].count(), color=likert_colors[5], left=lefts)\n",
    "        lefts = lefts + scale[scale == 5][col].count()\n",
    "    \n",
    "    mplt.title(title)\n",
    "    ax.legend(legend)\n",
    "    ax.set_yticks(y_tick)\n",
    "    ax.set_xticks(x_tick)\n",
    "    ax.set_yticklabels(y_lab)\n",
    "    \n",
    "    return fig\n",
    "\n",
    "def plot_correct(scale, x_tick,  y_tick, y_lab, title, legend=[\"Missing\",\"Incorrect\",\"Correct\"], reverse=False):\n",
    "    colors = [\n",
    "        \"#bdc3c7\", #Silver Sand Grey\n",
    "        \"#5333ed\", #Royal Blue\n",
    "        \"#d91e18\" #Thunderbird Red\n",
    "    ]\n",
    "    \n",
    "    fig = mplt.figure()\n",
    "    ax = fig.add_subplot(1,1,1)\n",
    "    \n",
    "    for i,col in zip(range(0, len(scale.columns)), scale.columns):\n",
    "        ax.barh(i, scale[scale == -99][col].count(), color=colors[0])\n",
    "        lefts = scale[scale == -99][col].count()\n",
    "        \n",
    "        ax.barh(i, scale[scale == 0][col].count(), color=colors[2], left=lefts)\n",
    "        lefts = lefts + scale[scale == 0][col].count()\n",
    "\n",
    "        ax.barh(i, scale[scale == 1][col].count(), color=colors[1], left=lefts)\n",
    "        lefts = lefts + scale[scale == 1][col].count()\n",
    "    \n",
    "    mplt.title(title)\n",
    "    ax.legend(legend)\n",
    "    ax.set_yticks(y_tick)\n",
    "    ax.set_xticks(x_tick)\n",
    "    ax.set_yticklabels(y_lab)\n",
    "    \n",
    "    return fig"
   ]
  },
  {
   "cell_type": "markdown",
   "metadata": {},
   "source": [
    "## Challenge Ratings"
   ]
  },
  {
   "cell_type": "code",
   "execution_count": 270,
   "metadata": {
    "scrolled": true
   },
   "outputs": [
    {
     "name": "stdout",
     "output_type": "stream",
     "text": [
      "Mean of V1T1 Challenge: 2.60\n",
      "Mean of V1T2 Challenge: 3.00\n",
      "Mean of V1T3 Challenge: 2.67\n"
     ]
    },
    {
     "data": {
      "image/png": "[encoded data removed]",
      "text/plain": [
       "<Figure size 432x288 with 1 Axes>"
      ]
     },
     "metadata": {
      "needs_background": "light"
     },
     "output_type": "display_data"
    }
   ],
   "source": [
    "print(\"Mean of V1T1 Challenge: %.2f\" %np.nanmean(allusers_challenge_data['v1_t1_challenge'].replace(-99, np.nan)))\n",
    "\n",
    "print(\"Mean of V1T2 Challenge: %.2f\" %np.mean(allusers_challenge_data['v1_t2_challenge'].replace(-99, np.nan)))\n",
    "\n",
    "print(\"Mean of V1T3 Challenge: %.2f\" %np.mean(allusers_challenge_data['v1_t3_challenge'].replace(-99, np.nan)))\n",
    "\n",
    "challenge_ratings = repeated_likert_plot(allusers_challenge_data,\n",
    "                             legend=[\"1 - Not challenging at all\",\"2\",\"3\",\"4\",\"5 - Very challenging\"],\n",
    "                             x_tick=[1,2,3,4,5,6],\n",
    "                             y_tick=[0,1,2],\n",
    "                             y_lab=[\n",
    "                                 \"V1 Task 1 Rating\",\n",
    "                                 \"V1 Task 2 Rating\",\n",
    "                                 \"V1 Task 3 Rating\",\n",
    "                                 \"'v2_t1_challenge',\n",
    "'v2_t2_challenge',\n",
    "'v2_t3_challenge',\n",
    "'v2_t4_challenge',\n",
    "'v2_t5_challenge', \n",
    "'v3_t1_challenge',\n",
    "'v3_t2_challenge', \n",
    "'v3_t3_challenge', \n",
    "'v3_t4_challenge', \"\n",
    "                             ],\n",
    "                             title=\"View 1 Challenge Ratings (all users)\")"
   ]
  },
  {
   "cell_type": "markdown",
   "metadata": {},
   "source": [
    "## Overall Rating"
   ]
  },
  {
   "cell_type": "code",
   "execution_count": 271,
   "metadata": {},
   "outputs": [
    {
     "name": "stdout",
     "output_type": "stream",
     "text": [
      "Mean of Overall Rating: 3.20\n"
     ]
    },
    {
     "data": {
      "image/png": "[encoded data removed]",
      "text/plain": [
       "<Figure size 432x288 with 1 Axes>"
      ]
     },
     "metadata": {
      "needs_background": "light"
     },
     "output_type": "display_data"
    }
   ],
   "source": [
    "print(\"Mean of Overall Rating: %.2f\" %np.mean(allusers_overall_data.replace(-99, np.nan)))\n",
    "\n",
    "overall = likert_plot(allusers_overall_data,\n",
    "                             legend=[\"Missing\",\"1 - Very poor\",\"2\",\"3\",\"4\",\"5 - Very good\"],\n",
    "                             x_tick=[1,2,3,4,5,6],\n",
    "                             y_lab=[\"\"],\n",
    "                             title=\"Overall Rating (all users)\",\n",
    "                             reverse=True)"
   ]
  },
  {
   "cell_type": "markdown",
   "metadata": {},
   "source": [
    "## System Usability Scale"
   ]
  },
  {
   "cell_type": "code",
   "execution_count": 272,
   "metadata": {},
   "outputs": [
    {
     "data": {
      "image/png": "[encoded data removed]",
      "text/plain": [
       "<Figure size 432x288 with 1 Axes>"
      ]
     },
     "metadata": {
      "needs_background": "light"
     },
     "output_type": "display_data"
    }
   ],
   "source": [
    "sus_chart = repeated_likert_plot(allusers_sus_data,\n",
    "                    legend=[\"Missing\",\"1 - Strongly disagree\",\"2\",\"3\",\"4\",\"5 - Strongly agree\"],\n",
    "                    x_tick=[1,2,3,4,5,6],\n",
    "                    y_tick=[0,1,2,3,4,5,6,7,8,9],\n",
    "                    y_lab=sus_labels,\n",
    "                    title=\"System Usability Scale Ratings (all users)\",\n",
    "                    reverse=True)"
   ]
  },
  {
   "cell_type": "code",
   "execution_count": 258,
   "metadata": {},
   "outputs": [
    {
     "data": {
      "text/html": [
       "<div>\n",
       "<style scoped>\n",
       "    .dataframe tbody tr th:only-of-type {\n",
       "        vertical-align: middle;\n",
       "    }\n",
       "\n",
       "    .dataframe tbody tr th {\n",
       "        vertical-align: top;\n",
       "    }\n",
       "\n",
       "    .dataframe thead th {\n",
       "        text-align: right;\n",
       "    }\n",
       "</style>\n",
       "<table border=\"1\" class=\"dataframe\">\n",
       "  <thead>\n",
       "    <tr style=\"text-align: right;\">\n",
       "      <th></th>\n",
       "      <th>sus_2</th>\n",
       "      <th>sus_3</th>\n",
       "      <th>sus_4</th>\n",
       "      <th>sus_5</th>\n",
       "      <th>sus_6</th>\n",
       "      <th>sus_7</th>\n",
       "      <th>sus_8</th>\n",
       "      <th>sus_9</th>\n",
       "      <th>sus_10</th>\n",
       "    </tr>\n",
       "  </thead>\n",
       "  <tbody>\n",
       "    <tr>\n",
       "      <th>0</th>\n",
       "      <td>1</td>\n",
       "      <td>5</td>\n",
       "      <td>1</td>\n",
       "      <td>4</td>\n",
       "      <td>2</td>\n",
       "      <td>4</td>\n",
       "      <td>1</td>\n",
       "      <td>4</td>\n",
       "      <td>4</td>\n",
       "    </tr>\n",
       "    <tr>\n",
       "      <th>1</th>\n",
       "      <td>1</td>\n",
       "      <td>3</td>\n",
       "      <td>1</td>\n",
       "      <td>4</td>\n",
       "      <td>3</td>\n",
       "      <td>4</td>\n",
       "      <td>2</td>\n",
       "      <td>4</td>\n",
       "      <td>1</td>\n",
       "    </tr>\n",
       "    <tr>\n",
       "      <th>2</th>\n",
       "      <td>-99</td>\n",
       "      <td>-99</td>\n",
       "      <td>-99</td>\n",
       "      <td>-99</td>\n",
       "      <td>-99</td>\n",
       "      <td>-99</td>\n",
       "      <td>-99</td>\n",
       "      <td>-99</td>\n",
       "      <td>-99</td>\n",
       "    </tr>\n",
       "    <tr>\n",
       "      <th>3</th>\n",
       "      <td>2</td>\n",
       "      <td>3</td>\n",
       "      <td>2</td>\n",
       "      <td>2</td>\n",
       "      <td>3</td>\n",
       "      <td>5</td>\n",
       "      <td>3</td>\n",
       "      <td>2</td>\n",
       "      <td>2</td>\n",
       "    </tr>\n",
       "    <tr>\n",
       "      <th>4</th>\n",
       "      <td>4</td>\n",
       "      <td>3</td>\n",
       "      <td>2</td>\n",
       "      <td>3</td>\n",
       "      <td>4</td>\n",
       "      <td>3</td>\n",
       "      <td>4</td>\n",
       "      <td>3</td>\n",
       "      <td>2</td>\n",
       "    </tr>\n",
       "    <tr>\n",
       "      <th>5</th>\n",
       "      <td>4</td>\n",
       "      <td>3</td>\n",
       "      <td>1</td>\n",
       "      <td>4</td>\n",
       "      <td>2</td>\n",
       "      <td>2</td>\n",
       "      <td>3</td>\n",
       "      <td>1</td>\n",
       "      <td>2</td>\n",
       "    </tr>\n",
       "  </tbody>\n",
       "</table>\n",
       "</div>"
      ],
      "text/plain": [
       "   sus_2  sus_3  sus_4  sus_5  sus_6  sus_7  sus_8  sus_9  sus_10\n",
       "0      1      5      1      4      2      4      1      4       4\n",
       "1      1      3      1      4      3      4      2      4       1\n",
       "2    -99    -99    -99    -99    -99    -99    -99    -99     -99\n",
       "3      2      3      2      2      3      5      3      2       2\n",
       "4      4      3      2      3      4      3      4      3       2\n",
       "5      4      3      1      4      2      2      3      1       2"
      ]
     },
     "execution_count": 258,
     "metadata": {},
     "output_type": "execute_result"
    }
   ],
   "source": [
    "allusers_sus_data"
   ]
  },
  {
   "cell_type": "code",
   "execution_count": 282,
   "metadata": {},
   "outputs": [
    {
     "data": {
      "text/html": [
       "<div>\n",
       "<style scoped>\n",
       "    .dataframe tbody tr th:only-of-type {\n",
       "        vertical-align: middle;\n",
       "    }\n",
       "\n",
       "    .dataframe tbody tr th {\n",
       "        vertical-align: top;\n",
       "    }\n",
       "\n",
       "    .dataframe thead th {\n",
       "        text-align: right;\n",
       "    }\n",
       "</style>\n",
       "<table border=\"1\" class=\"dataframe\">\n",
       "  <thead>\n",
       "    <tr style=\"text-align: right;\">\n",
       "      <th></th>\n",
       "      <th>sus_2</th>\n",
       "      <th>sus_3</th>\n",
       "      <th>sus_4</th>\n",
       "      <th>sus_5</th>\n",
       "      <th>sus_6</th>\n",
       "      <th>sus_7</th>\n",
       "      <th>sus_8</th>\n",
       "      <th>sus_9</th>\n",
       "      <th>sus_10</th>\n",
       "    </tr>\n",
       "  </thead>\n",
       "  <tbody>\n",
       "    <tr>\n",
       "      <th>0</th>\n",
       "      <td>5.0</td>\n",
       "      <td>5.0</td>\n",
       "      <td>5.0</td>\n",
       "      <td>4.0</td>\n",
       "      <td>4.0</td>\n",
       "      <td>4.0</td>\n",
       "      <td>5.0</td>\n",
       "      <td>4.0</td>\n",
       "      <td>2.0</td>\n",
       "    </tr>\n",
       "    <tr>\n",
       "      <th>1</th>\n",
       "      <td>5.0</td>\n",
       "      <td>3.0</td>\n",
       "      <td>5.0</td>\n",
       "      <td>4.0</td>\n",
       "      <td>3.0</td>\n",
       "      <td>4.0</td>\n",
       "      <td>4.0</td>\n",
       "      <td>4.0</td>\n",
       "      <td>5.0</td>\n",
       "    </tr>\n",
       "    <tr>\n",
       "      <th>2</th>\n",
       "      <td>NaN</td>\n",
       "      <td>NaN</td>\n",
       "      <td>NaN</td>\n",
       "      <td>NaN</td>\n",
       "      <td>NaN</td>\n",
       "      <td>NaN</td>\n",
       "      <td>NaN</td>\n",
       "      <td>NaN</td>\n",
       "      <td>NaN</td>\n",
       "    </tr>\n",
       "    <tr>\n",
       "      <th>3</th>\n",
       "      <td>4.0</td>\n",
       "      <td>3.0</td>\n",
       "      <td>4.0</td>\n",
       "      <td>2.0</td>\n",
       "      <td>3.0</td>\n",
       "      <td>5.0</td>\n",
       "      <td>3.0</td>\n",
       "      <td>2.0</td>\n",
       "      <td>4.0</td>\n",
       "    </tr>\n",
       "    <tr>\n",
       "      <th>4</th>\n",
       "      <td>2.0</td>\n",
       "      <td>3.0</td>\n",
       "      <td>4.0</td>\n",
       "      <td>3.0</td>\n",
       "      <td>2.0</td>\n",
       "      <td>3.0</td>\n",
       "      <td>2.0</td>\n",
       "      <td>3.0</td>\n",
       "      <td>4.0</td>\n",
       "    </tr>\n",
       "    <tr>\n",
       "      <th>5</th>\n",
       "      <td>2.0</td>\n",
       "      <td>3.0</td>\n",
       "      <td>5.0</td>\n",
       "      <td>4.0</td>\n",
       "      <td>4.0</td>\n",
       "      <td>2.0</td>\n",
       "      <td>3.0</td>\n",
       "      <td>1.0</td>\n",
       "      <td>4.0</td>\n",
       "    </tr>\n",
       "  </tbody>\n",
       "</table>\n",
       "</div>"
      ],
      "text/plain": [
       "   sus_2  sus_3  sus_4  sus_5  sus_6  sus_7  sus_8  sus_9  sus_10\n",
       "0    5.0    5.0    5.0    4.0    4.0    4.0    5.0    4.0     2.0\n",
       "1    5.0    3.0    5.0    4.0    3.0    4.0    4.0    4.0     5.0\n",
       "2    NaN    NaN    NaN    NaN    NaN    NaN    NaN    NaN     NaN\n",
       "3    4.0    3.0    4.0    2.0    3.0    5.0    3.0    2.0     4.0\n",
       "4    2.0    3.0    4.0    3.0    2.0    3.0    2.0    3.0     4.0\n",
       "5    2.0    3.0    5.0    4.0    4.0    2.0    3.0    1.0     4.0"
      ]
     },
     "execution_count": 282,
     "metadata": {},
     "output_type": "execute_result"
    }
   ],
   "source": [
    "reverse_score = [\n",
    "    'sus_2',  \n",
    "    'sus_4',\n",
    "    'sus_6',  \n",
    "    'sus_8', \n",
    "    'sus_10'\n",
    "]\n",
    "\n",
    "allusers_sus_data = allusers_sus_data.replace(-99, np.nan)\n",
    "\n",
    "def reverseScoring(df, high, cols):\n",
    "    temp = df.copy()\n",
    "    temp[cols] = high - df[cols]\n",
    "    return temp\n",
    "\n",
    "sus_rev = reverseScoring(allusers_sus_data, 6, reverse_score)\n",
    "\n",
    "sus_rev"
   ]
  },
  {
   "cell_type": "code",
   "execution_count": 283,
   "metadata": {
    "scrolled": true
   },
   "outputs": [
    {
     "name": "stdout",
     "output_type": "stream",
     "text": [
      "Mean score of SUS: 31.80 / 45\n"
     ]
    }
   ],
   "source": [
    "total_score = []\n",
    "\n",
    "for i in range(0, 6):\n",
    "    total_score.append(sum(sus_rev.iloc[i]))\n",
    "    \n",
    "print(\"Mean score of SUS: %.2f / 45\" %np.nanmean(total_score))"
   ]
  },
  {
   "cell_type": "code",
   "execution_count": 284,
   "metadata": {},
   "outputs": [
    {
     "data": {
      "text/html": [
       "<div>\n",
       "<style scoped>\n",
       "    .dataframe tbody tr th:only-of-type {\n",
       "        vertical-align: middle;\n",
       "    }\n",
       "\n",
       "    .dataframe tbody tr th {\n",
       "        vertical-align: top;\n",
       "    }\n",
       "\n",
       "    .dataframe thead th {\n",
       "        text-align: right;\n",
       "    }\n",
       "</style>\n",
       "<table border=\"1\" class=\"dataframe\">\n",
       "  <thead>\n",
       "    <tr style=\"text-align: right;\">\n",
       "      <th></th>\n",
       "      <th>0</th>\n",
       "    </tr>\n",
       "  </thead>\n",
       "  <tbody>\n",
       "    <tr>\n",
       "      <th>0</th>\n",
       "      <td>38.0</td>\n",
       "    </tr>\n",
       "    <tr>\n",
       "      <th>1</th>\n",
       "      <td>37.0</td>\n",
       "    </tr>\n",
       "    <tr>\n",
       "      <th>2</th>\n",
       "      <td>NaN</td>\n",
       "    </tr>\n",
       "    <tr>\n",
       "      <th>3</th>\n",
       "      <td>30.0</td>\n",
       "    </tr>\n",
       "    <tr>\n",
       "      <th>4</th>\n",
       "      <td>26.0</td>\n",
       "    </tr>\n",
       "    <tr>\n",
       "      <th>5</th>\n",
       "      <td>28.0</td>\n",
       "    </tr>\n",
       "  </tbody>\n",
       "</table>\n",
       "</div>"
      ],
      "text/plain": [
       "      0\n",
       "0  38.0\n",
       "1  37.0\n",
       "2   NaN\n",
       "3  30.0\n",
       "4  26.0\n",
       "5  28.0"
      ]
     },
     "execution_count": 284,
     "metadata": {},
     "output_type": "execute_result"
    },
    {
     "data": {
      "image/png": "[encoded data removed]",
      "text/plain": [
       "<Figure size 432x288 with 1 Axes>"
      ]
     },
     "metadata": {
      "needs_background": "light"
     },
     "output_type": "display_data"
    }
   ],
   "source": [
    "sus_rev = sus_rev.replace(np.nan, -99)\n",
    "\n",
    "sus_chart = repeated_likert_plot(sus_rev,\n",
    "                    legend=[\"Missing\",\"1 - Strongly disagree\",\"2\",\"3\",\"4\",\"5 - Strongly agree\"],\n",
    "                    x_tick=[1,2,3,4,5,6],\n",
    "                    y_tick=[0,1,2,3,4,5,6,7,8,9],\n",
    "                    y_lab=sus_labels,\n",
    "                    title=\"System Usability Scale Ratings (all users), Reverse Coded\",\n",
    "                    reverse=True)\n",
    "\n",
    "pd.DataFrame(total_score)"
   ]
  },
  {
   "cell_type": "markdown",
   "metadata": {},
   "source": [
    "## View 1 Tasks Correct"
   ]
  },
  {
   "cell_type": "code",
   "execution_count": 261,
   "metadata": {},
   "outputs": [
    {
     "data": {
      "image/png": "[encoded data removed]",
      "text/plain": [
       "<Figure size 432x288 with 1 Axes>"
      ]
     },
     "metadata": {
      "needs_background": "light"
     },
     "output_type": "display_data"
    }
   ],
   "source": [
    "plot = plot_correct(allusers_correct_data,\n",
    "            x_tick=[1,2,3,4,5,6],\n",
    "            y_tick=[0,1,2,3,4,5,6,7,8,9,10],\n",
    "            y_lab=allusers_correct_data.columns,\n",
    "            title=\"View 1 Tasks Correct (all users)\")"
   ]
  },
  {
   "cell_type": "code",
   "execution_count": 263,
   "metadata": {},
   "outputs": [
    {
     "name": "stdout",
     "output_type": "stream",
     "text": [
      "Number Correct: 34\n",
      "Number Incorrect: 13\n",
      "Number Missing: 19 \n",
      "\n",
      "Total number of tasks per user: 11\n",
      "Total number of tasks completed: 47 \n",
      "\n",
      "Percent Correct: 0.72\n",
      "Percent Incorrect 0.28 \n",
      "\n",
      "Task Completion Rate: 0.71\n"
     ]
    }
   ],
   "source": [
    "counts = []\n",
    "\n",
    "for i in range(0, 6):\n",
    "    counts.append([\n",
    "        allusers_correct_data.iloc[i][allusers_correct_data.iloc[i] == -99].count(),\n",
    "        allusers_correct_data.iloc[i][allusers_correct_data.iloc[i] == 0].count(),\n",
    "        allusers_correct_data.iloc[i][allusers_correct_data.iloc[i] == 1].count()\n",
    "    ])\n",
    "\n",
    "df_counts = pd.DataFrame(counts, columns=[\"Missing\", \"Incorrect\", \"Correct\"])\n",
    "\n",
    "total_correct = sum(df_counts[\"Correct\"])\n",
    "total_incorrect = sum(df_counts[\"Incorrect\"])\n",
    "total_missing = sum(df_counts[\"Missing\"])\n",
    "\n",
    "total_tasks_user = len(view1_correct)\n",
    "total_tasks_completed = total_tasks_user*6-sum(df_counts[\"Missing\"])\n",
    "\n",
    "per_correct = total_correct/total_tasks_completed\n",
    "per_incorrect = total_incorrect/total_tasks_completed\n",
    "\n",
    "completion_rate = total_tasks_completed/(total_tasks_user*6)\n",
    "\n",
    "print(\"Number Correct: %i\" %total_correct)\n",
    "print(\"Number Incorrect: %i\" %total_incorrect)\n",
    "print(\"Number Missing: %i \\n\" %total_missing)\n",
    "\n",
    "print(\"Total number of tasks per user: %i\" %total_tasks_user)\n",
    "print(\"Total number of tasks completed: %i \\n\" %total_tasks_completed)\n",
    "\n",
    "print(\"Percent Correct: %.2f\" %per_correct)\n",
    "print(\"Percent Incorrect %.2f \\n\" %per_incorrect)\n",
    "\n",
    "print(\"Task Completion Rate: %.2f\" %completion_rate)"
   ]
  },
  {
   "cell_type": "markdown",
   "metadata": {},
   "source": [
    "## Appendix A."
   ]
  },
  {
   "cell_type": "code",
   "execution_count": 63,
   "metadata": {},
   "outputs": [],
   "source": [
    "columns = ['Timestamp', \n",
    "           'id',\n",
    "           'consent',\n",
    "           'Tell me about this view.',\n",
    "           'v1_t1_challenge',\n",
    "           'Task 1 Additional Comments', \n",
    "           '1. Sao Paulo', \n",
    "           'sp_most_correct',\n",
    "           'sp_least_correct', \n",
    "           '2. Belo Horizonte', \n",
    "           'bh_most_correct',\n",
    "           'bh_least_correct', \n",
    "           '3. Salvador', \n",
    "           's_most_correct', \n",
    "           's_least_correct',\n",
    "           '4. Vitoria', \n",
    "           'v_most_correct', \n",
    "           'v_least_correct', \n",
    "           'v1_t2_challenge',\n",
    "           'Task 2 Additional Comments', \n",
    "           'What day did the spike occur on?',\n",
    "           'What were the total sales on that day? ', \n",
    "           'ts_correct',\n",
    "           'What was the most popular item category?', \n",
    "           'pop_category_correct',\n",
    "           'Which city had the fewest number of orders that day?',\n",
    "           'city_fewest_orders_correct', \n",
    "           'v1_t3_challenge',\n",
    "           'Task 3 Additional Comments', \n",
    "           'Tell me about this view',\n",
    "           'v2_t1_challenge',\n",
    "           'You are creating sales report for December 2017. Identify the number of orders for three different product categories',\n",
    "           'v2_t2_challenge',\n",
    "           'You need to decide one a product category to discontinue. Identify the product category with the least amount of orders for the latest month.',\n",
    "           'v2_t3_challenge',\n",
    "           'You want to bring in more tech products. Tell me how the tech product category is doing?',\n",
    "           'v2_t4_challenge',\n",
    "           'In anticipation of the upcoming holiday season, you want to learn more about the trends last year. Tell me about the 2017 holiday season.',\n",
    "           'v2_t5_challenge', \n",
    "           'View 2 Additional Comments',\n",
    "           'Tell me about the view? ', \n",
    "           'v3_t1_challenge', \n",
    "           'Additional comments',\n",
    "           'Additional comments.1',\n",
    "           'What is the range of average order processing time across all the states? ',\n",
    "           'Which state has the worst average? What is the value?',\n",
    "           'Which state has the best average? What is the value?',\n",
    "           'What is the order processing time for MG and AM?',\n",
    "           'Which states have an out of range average processing time? ',\n",
    "           'v3_t2_challenge', \n",
    "           'Additional Comments',\n",
    "           'What is the range of average order processing time across all product categories? ',\n",
    "           'Which product category ships the fastest? Which one is the slowest?',\n",
    "           'What is the average delivery time for office furniture and home appliances?',\n",
    "           'Which product categories need more attention i.e. have an out of range processing time? ',\n",
    "           'v3_t3_challenge', \n",
    "           'Additional Comments.1',\n",
    "           'Which 2-3 products ship the slowest in the 3 lowest performing states? ',\n",
    "           'Which 2-3 products ship the slowest in the 2 highest performing states? ',\n",
    "           'Is there an outlier category that has bad delivery times in almost all the states? Which one is it? ',\n",
    "           'Is there a wide variation in delivery times of product categories among states? ',\n",
    "           'v3_t4_challenge', \n",
    "           'Additional Comments.2', \n",
    "           'sus_2', \n",
    "           'sus_3', \n",
    "           'sus_4',\n",
    "           'sus_5', \n",
    "           'sus_6', \n",
    "           'sus_7', \n",
    "           'sus_8', \n",
    "           'sus_9', \n",
    "           'sus_10',\n",
    "           'What are your overall thoughts on the tool?',\n",
    "           'Were there any tasks you found particularly challenging or non-intuitive? Please tell me more about those and any ideas for improvement you may have.',\n",
    "           'Were there any tasks you found particularly easy to perform? Please tell me more about those and why they were easier? ',\n",
    "           'Do you have any other suggestions or comments?', \n",
    "           'overall_rating',\n",
    "           'age', \n",
    "           'gender', \n",
    "           'race', \n",
    "           'Additional Notes and Observations'\n",
    "          ]"
   ]
  },
  {
   "cell_type": "code",
   "execution_count": null,
   "metadata": {},
   "outputs": [],
   "source": []
  }
 ],
 "metadata": {
  "kernelspec": {
   "display_name": "Python 3",
   "language": "python",
   "name": "python3"
  },
  "language_info": {
   "codemirror_mode": {
    "name": "ipython",
    "version": 3
   },
   "file_extension": ".py",
   "mimetype": "text/x-python",
   "name": "python",
   "nbconvert_exporter": "python",
   "pygments_lexer": "ipython3",
   "version": "3.7.1"
  }
 },
 "nbformat": 4,
 "nbformat_minor": 2
}
